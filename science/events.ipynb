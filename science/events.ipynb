{
 "cells": [
  {
   "cell_type": "code",
   "execution_count": null,
   "metadata": {},
   "outputs": [],
   "source": []
  },
  {
   "cell_type": "code",
   "execution_count": null,
   "metadata": {},
   "outputs": [],
   "source": [
    "import pandas as pd\n",
    "\n",
    "df = pd.read_csv('data/events.csv')\n",
    "\n",
    "df.columns\n",
    "\n",
    "# Index(['Sl. No', 'Name of Incident', 'Date', 'Month', 'Year', 'Country',\n",
    "#        'Type of Event', 'Place Name', 'Impact', 'Affected Population',\n",
    "#        'Important Person/Group Responsible', 'Outcome'],\n",
    "#       dtype='object')\n",
    "\n",
    "# I just want columns for event_name, event_descriptoin, date, location\n",
    "\n",
    "df = df[['Name of Incident', 'Year', 'Month', 'Date', 'Country', 'Place Name',  'Impact']]\n",
    "# rename columns to match the schema\n",
    "\n",
    "df = df.rename(columns={'Name of Incident': 'event_name', 'Place Name': 'location', 'Impact': 'event_description'})\n",
    "\n",
    "\n"
   ]
  },
  {
   "cell_type": "code",
   "execution_count": 26,
   "metadata": {},
   "outputs": [],
   "source": [
    "# convert dataframe to a map from event_name to a list of event objects\n",
    "events = {}\n",
    "for index, row in df.iterrows():\n",
    "    event_name = row['event_name']\n",
    "    event_description = row['event_description']\n",
    "    date = row['Date']\n",
    "    location = row['location']\n",
    "    year = row['Year']\n",
    "    month = row['Month']\n",
    "    country = row['Country']\n",
    "    event = {\n",
    "        'event_name': event_name,\n",
    "        'event_description': event_description,\n",
    "        'date': date,\n",
    "        'location': location,\n",
    "        'year': year,\n",
    "        'month': month,\n",
    "        'country': country\n",
    "    }\n",
    "\n",
    "    events[event_name] = event\n",
    "\n"
   ]
  },
  {
   "cell_type": "code",
   "execution_count": 67,
   "metadata": {},
   "outputs": [
    {
     "name": "stdout",
     "output_type": "stream",
     "text": [
      "done\n"
     ]
    }
   ],
   "source": [
    "#write events to a json file\n",
    "import json\n",
    "with open('data/events.json', 'w') as f:\n",
    "    json.dump(events, f)\n",
    "\n",
    "print('done')"
   ]
  }
 ],
 "metadata": {
  "kernelspec": {
   "display_name": "venv",
   "language": "python",
   "name": "python3"
  },
  "language_info": {
   "codemirror_mode": {
    "name": "ipython",
    "version": 3
   },
   "file_extension": ".py",
   "mimetype": "text/x-python",
   "name": "python",
   "nbconvert_exporter": "python",
   "pygments_lexer": "ipython3",
   "version": "3.11.1"
  }
 },
 "nbformat": 4,
 "nbformat_minor": 2
}
